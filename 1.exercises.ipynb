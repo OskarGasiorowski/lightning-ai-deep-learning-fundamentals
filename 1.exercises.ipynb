{
 "cells": [
  {
   "cell_type": "code",
   "execution_count": 15,
   "metadata": {
    "collapsed": true,
    "ExecuteTime": {
     "end_time": "2023-06-20T10:32:43.645244Z",
     "start_time": "2023-06-20T10:32:43.643982Z"
    }
   },
   "outputs": [],
   "source": [
    "import random\n",
    "\n",
    "class Perceptron:\n",
    "    def __init__(self, num_features):\n",
    "        self.num_features = num_features\n",
    "        self.weights = [random.uniform(-0.5, 0.5) for _ in range(num_features)]\n",
    "        self.bias = 0.0\n",
    "\n",
    "    def forward(self, x):\n",
    "        weighted_sum_z = self.bias\n",
    "        for i, _ in enumerate(self.weights):\n",
    "            weighted_sum_z += x[i] * self.weights[i]\n",
    "\n",
    "        if weighted_sum_z > 0.0:\n",
    "            return 1\n",
    "        else:\n",
    "            return 0\n",
    "\n",
    "    def update(self, x, true_y):\n",
    "        predication = self.forward(x)\n",
    "        error = true_y - predication\n",
    "\n",
    "        self.bias += error\n",
    "        for i, _ in enumerate(self.weights):\n",
    "            self.weights[i] += error * x[i]\n",
    "\n",
    "        return error"
   ]
  },
  {
   "cell_type": "code",
   "execution_count": 16,
   "outputs": [],
   "source": [
    "def train(model, all_x, all_y, epochs):\n",
    "    for epoch in range(epochs):\n",
    "        error_count = 0\n",
    "\n",
    "        for x, y in zip(all_x, all_y):\n",
    "            error = model.update(x, y)\n",
    "            error_count += abs(error)\n",
    "\n",
    "        print(f\"Epoch {epoch+1} errors {error_count}\")\n",
    "\n",
    "        if error_count == 0 and epoch + 1 is not epochs:\n",
    "            print(f\"Finished at {epoch+1} out of {epochs} with no error\")\n",
    "            return None"
   ],
   "metadata": {
    "collapsed": false,
    "ExecuteTime": {
     "end_time": "2023-06-20T10:32:43.648720Z",
     "start_time": "2023-06-20T10:32:43.646936Z"
    }
   }
  },
  {
   "cell_type": "code",
   "execution_count": 17,
   "outputs": [
    {
     "data": {
      "text/plain": "      x1    x2  label\n0   0.77 -1.14      0\n1  -0.33  1.44      0\n2   0.91 -3.07      0\n3  -0.37 -1.91      0\n4  -0.63 -1.53      0\n5   0.39 -1.99      0\n6  -0.49 -2.74      0\n7  -0.68 -1.52      0\n8  -0.10 -3.43      0\n9  -0.05 -1.95      0\n10  3.88  0.65      1\n11  0.73  2.97      1\n12  0.83  3.94      1\n13  1.59  1.25      1\n14  1.14  3.91      1\n15  1.73  2.80      1\n16  1.31  1.85      1\n17  1.56  3.85      1\n18  1.23  2.54      1\n19  1.33  2.03      1",
      "text/html": "<div>\n<style scoped>\n    .dataframe tbody tr th:only-of-type {\n        vertical-align: middle;\n    }\n\n    .dataframe tbody tr th {\n        vertical-align: top;\n    }\n\n    .dataframe thead th {\n        text-align: right;\n    }\n</style>\n<table border=\"1\" class=\"dataframe\">\n  <thead>\n    <tr style=\"text-align: right;\">\n      <th></th>\n      <th>x1</th>\n      <th>x2</th>\n      <th>label</th>\n    </tr>\n  </thead>\n  <tbody>\n    <tr>\n      <th>0</th>\n      <td>0.77</td>\n      <td>-1.14</td>\n      <td>0</td>\n    </tr>\n    <tr>\n      <th>1</th>\n      <td>-0.33</td>\n      <td>1.44</td>\n      <td>0</td>\n    </tr>\n    <tr>\n      <th>2</th>\n      <td>0.91</td>\n      <td>-3.07</td>\n      <td>0</td>\n    </tr>\n    <tr>\n      <th>3</th>\n      <td>-0.37</td>\n      <td>-1.91</td>\n      <td>0</td>\n    </tr>\n    <tr>\n      <th>4</th>\n      <td>-0.63</td>\n      <td>-1.53</td>\n      <td>0</td>\n    </tr>\n    <tr>\n      <th>5</th>\n      <td>0.39</td>\n      <td>-1.99</td>\n      <td>0</td>\n    </tr>\n    <tr>\n      <th>6</th>\n      <td>-0.49</td>\n      <td>-2.74</td>\n      <td>0</td>\n    </tr>\n    <tr>\n      <th>7</th>\n      <td>-0.68</td>\n      <td>-1.52</td>\n      <td>0</td>\n    </tr>\n    <tr>\n      <th>8</th>\n      <td>-0.10</td>\n      <td>-3.43</td>\n      <td>0</td>\n    </tr>\n    <tr>\n      <th>9</th>\n      <td>-0.05</td>\n      <td>-1.95</td>\n      <td>0</td>\n    </tr>\n    <tr>\n      <th>10</th>\n      <td>3.88</td>\n      <td>0.65</td>\n      <td>1</td>\n    </tr>\n    <tr>\n      <th>11</th>\n      <td>0.73</td>\n      <td>2.97</td>\n      <td>1</td>\n    </tr>\n    <tr>\n      <th>12</th>\n      <td>0.83</td>\n      <td>3.94</td>\n      <td>1</td>\n    </tr>\n    <tr>\n      <th>13</th>\n      <td>1.59</td>\n      <td>1.25</td>\n      <td>1</td>\n    </tr>\n    <tr>\n      <th>14</th>\n      <td>1.14</td>\n      <td>3.91</td>\n      <td>1</td>\n    </tr>\n    <tr>\n      <th>15</th>\n      <td>1.73</td>\n      <td>2.80</td>\n      <td>1</td>\n    </tr>\n    <tr>\n      <th>16</th>\n      <td>1.31</td>\n      <td>1.85</td>\n      <td>1</td>\n    </tr>\n    <tr>\n      <th>17</th>\n      <td>1.56</td>\n      <td>3.85</td>\n      <td>1</td>\n    </tr>\n    <tr>\n      <th>18</th>\n      <td>1.23</td>\n      <td>2.54</td>\n      <td>1</td>\n    </tr>\n    <tr>\n      <th>19</th>\n      <td>1.33</td>\n      <td>2.03</td>\n      <td>1</td>\n    </tr>\n  </tbody>\n</table>\n</div>"
     },
     "execution_count": 17,
     "metadata": {},
     "output_type": "execute_result"
    }
   ],
   "source": [
    "import pandas as pd\n",
    "\n",
    "df = pd.read_csv(\"1.exercises.data.txt\", sep=\"\\t\")\n",
    "df"
   ],
   "metadata": {
    "collapsed": false,
    "ExecuteTime": {
     "end_time": "2023-06-20T10:32:43.654769Z",
     "start_time": "2023-06-20T10:32:43.649765Z"
    }
   }
  },
  {
   "cell_type": "code",
   "execution_count": 18,
   "outputs": [],
   "source": [
    "X_train = df[['x1', 'x2']].values\n",
    "y_train = df['label'].values"
   ],
   "metadata": {
    "collapsed": false,
    "ExecuteTime": {
     "end_time": "2023-06-20T10:32:43.657372Z",
     "start_time": "2023-06-20T10:32:43.656323Z"
    }
   }
  },
  {
   "cell_type": "code",
   "execution_count": 19,
   "outputs": [
    {
     "data": {
      "text/plain": "array([[ 0.77, -1.14],\n       [-0.33,  1.44],\n       [ 0.91, -3.07],\n       [-0.37, -1.91],\n       [-0.63, -1.53],\n       [ 0.39, -1.99],\n       [-0.49, -2.74],\n       [-0.68, -1.52],\n       [-0.1 , -3.43],\n       [-0.05, -1.95],\n       [ 3.88,  0.65],\n       [ 0.73,  2.97],\n       [ 0.83,  3.94],\n       [ 1.59,  1.25],\n       [ 1.14,  3.91],\n       [ 1.73,  2.8 ],\n       [ 1.31,  1.85],\n       [ 1.56,  3.85],\n       [ 1.23,  2.54],\n       [ 1.33,  2.03]])"
     },
     "execution_count": 19,
     "metadata": {},
     "output_type": "execute_result"
    }
   ],
   "source": [
    "X_train"
   ],
   "metadata": {
    "collapsed": false,
    "ExecuteTime": {
     "end_time": "2023-06-20T10:32:43.667169Z",
     "start_time": "2023-06-20T10:32:43.660100Z"
    }
   }
  },
  {
   "cell_type": "code",
   "execution_count": 20,
   "outputs": [
    {
     "data": {
      "text/plain": "array([0, 0, 0, 0, 0, 0, 0, 0, 0, 0, 1, 1, 1, 1, 1, 1, 1, 1, 1, 1])"
     },
     "execution_count": 20,
     "metadata": {},
     "output_type": "execute_result"
    }
   ],
   "source": [
    "y_train"
   ],
   "metadata": {
    "collapsed": false,
    "ExecuteTime": {
     "end_time": "2023-06-20T10:32:43.692628Z",
     "start_time": "2023-06-20T10:32:43.663066Z"
    }
   }
  },
  {
   "cell_type": "code",
   "execution_count": 21,
   "outputs": [
    {
     "name": "stdout",
     "output_type": "stream",
     "text": [
      "Epoch 1 errors 3\n",
      "Epoch 2 errors 1\n",
      "Epoch 3 errors 0\n",
      "Finished at 3 out of 5 with no error\n"
     ]
    }
   ],
   "source": [
    "ppn = Perceptron(num_features=2)\n",
    "train(ppn, X_train, y_train, epochs=5)"
   ],
   "metadata": {
    "collapsed": false,
    "ExecuteTime": {
     "end_time": "2023-06-20T10:32:43.692874Z",
     "start_time": "2023-06-20T10:32:43.666753Z"
    }
   }
  },
  {
   "cell_type": "code",
   "execution_count": 21,
   "outputs": [],
   "source": [],
   "metadata": {
    "collapsed": false,
    "ExecuteTime": {
     "end_time": "2023-06-20T10:32:43.695743Z",
     "start_time": "2023-06-20T10:32:43.669095Z"
    }
   }
  },
  {
   "cell_type": "code",
   "execution_count": 21,
   "outputs": [],
   "source": [],
   "metadata": {
    "collapsed": false,
    "ExecuteTime": {
     "end_time": "2023-06-20T10:32:43.695898Z",
     "start_time": "2023-06-20T10:32:43.671701Z"
    }
   }
  }
 ],
 "metadata": {
  "kernelspec": {
   "display_name": "Python 3",
   "language": "python",
   "name": "python3"
  },
  "language_info": {
   "codemirror_mode": {
    "name": "ipython",
    "version": 2
   },
   "file_extension": ".py",
   "mimetype": "text/x-python",
   "name": "python",
   "nbconvert_exporter": "python",
   "pygments_lexer": "ipython2",
   "version": "2.7.6"
  }
 },
 "nbformat": 4,
 "nbformat_minor": 0
}
